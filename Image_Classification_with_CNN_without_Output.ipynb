{
  "nbformat": 4,
  "nbformat_minor": 0,
  "metadata": {
    "colab": {
      "name": "Image_Classification_with_CNN_without_Output.ipynb",
      "provenance": [],
      "authorship_tag": "ABX9TyOQt6MPF9Hrxl8nzNvngiFb",
      "include_colab_link": true
    },
    "kernelspec": {
      "name": "python3",
      "display_name": "Python 3"
    },
    "language_info": {
      "name": "python"
    },
    "accelerator": "GPU"
  },
  "cells": [
    {
      "cell_type": "markdown",
      "metadata": {
        "id": "view-in-github",
        "colab_type": "text"
      },
      "source": [
        "<a href=\"https://colab.research.google.com/github/Anthonaut/COMP-390-Tutorial-Image-Classifcation-with-CNN/blob/main/Image_Classification_with_CNN_without_Output.ipynb\" target=\"_parent\"><img src=\"https://colab.research.google.com/assets/colab-badge.svg\" alt=\"Open In Colab\"/></a>"
      ]
    },
    {
      "cell_type": "markdown",
      "source": [
        "## Installation"
      ],
      "metadata": {
        "id": "ZH72cKYxDQsF"
      }
    },
    {
      "cell_type": "code",
      "source": [
        "pip install -q tensorflow tensorflow-datasets"
      ],
      "metadata": {
        "id": "kYTG-zJuDJD_"
      },
      "execution_count": null,
      "outputs": []
    },
    {
      "cell_type": "markdown",
      "source": [
        "## Import Necessary Libaries"
      ],
      "metadata": {
        "id": "1wavgVFSDfrc"
      }
    },
    {
      "cell_type": "code",
      "source": [
        "import matplotlib.pyplot as plt\n",
        "import numpy as np\n",
        "\n",
        "import tensorflow as tf\n",
        "import tensorflow_datasets as tfds\n",
        "\n",
        "from tensorflow import keras\n",
        "tfds.disable_progress_bar() # - Gets rid of the progress bars that appear (e.g running \"ds_train\" and \"ds_test\")"
      ],
      "metadata": {
        "id": "jx3yxtyWDc_6"
      },
      "execution_count": null,
      "outputs": []
    },
    {
      "cell_type": "markdown",
      "source": [
        "## Find Datasets"
      ],
      "metadata": {
        "id": "kwUtQ7MqD8JT"
      }
    },
    {
      "cell_type": "code",
      "source": [
        "# https://www.tensorflow.org/datasets/overview\n",
        "# https://www.tensorflow.org/datasets/catalog/overview\n",
        "tfds.list_builders()"
      ],
      "metadata": {
        "id": "sChJFl_aD7ew"
      },
      "execution_count": null,
      "outputs": []
    },
    {
      "cell_type": "markdown",
      "source": [
        "## Get information on the Data"
      ],
      "metadata": {
        "id": "S34c4quZEyid"
      }
    },
    {
      "cell_type": "code",
      "source": [
        "builder = tfds.builder('rock_paper_scissors')\n",
        "info = builder.info\n",
        "\n",
        "info"
      ],
      "metadata": {
        "id": "e-lbx8i2ElEy"
      },
      "execution_count": null,
      "outputs": []
    },
    {
      "cell_type": "markdown",
      "source": [
        "## Prepare Rock, Paper, Scissors Data"
      ],
      "metadata": {
        "id": "wBuTPMuJFSIs"
      }
    },
    {
      "cell_type": "code",
      "source": [
        "ds_train = tfds.load(name=\"rock_paper_scissors\", split=\"train\")\n",
        "ds_test = tfds.load(name=\"rock_paper_scissors\", split=\"test\")"
      ],
      "metadata": {
        "id": "NFMnseKCE9UE"
      },
      "execution_count": null,
      "outputs": []
    },
    {
      "cell_type": "markdown",
      "source": [
        "## Show Examples"
      ],
      "metadata": {
        "id": "thGHlve7GGwx"
      }
    },
    {
      "cell_type": "code",
      "source": [
        "fig = tfds.show_examples(info, ds_train)"
      ],
      "metadata": {
        "id": "yNEzaRejFshR"
      },
      "execution_count": null,
      "outputs": []
    },
    {
      "cell_type": "markdown",
      "source": [
        "## Additional Data Prep"
      ],
      "metadata": {
        "id": "l82RKxIMG_FZ"
      }
    },
    {
      "cell_type": "code",
      "source": [
        "train_images = np.array([example['image'].numpy()[:,:,0] for example in ds_train])\n",
        "train_labels = np.array([example['label'].numpy() for example in ds_train])\n",
        "\n",
        "test_images = np.array([example['image'].numpy()[:,:,0] for example in ds_test])\n",
        "test_labels = np.array([example['label'].numpy() for example in ds_test])"
      ],
      "metadata": {
        "id": "9u_xktAeGS81"
      },
      "execution_count": null,
      "outputs": []
    },
    {
      "cell_type": "code",
      "source": [
        "# type(train_images[0]) - numpy type\n",
        "# train_images.shape - (2520, 300, 300), 1st values is # number of images\n",
        "# test_images.shape - (372, 300, 300)\n",
        "train_images = train_images.reshape(2520, 300, 300, 1) # Makes images grayscale\n",
        "test_images = test_images.reshape(372, 300, 300, 1)\n",
        "\n",
        "# train_images.dtype\n",
        "train_images = train_images.astype('float32')\n",
        "test_images = test_images.astype('float32')\n",
        "\n",
        "train_images /= 255\n",
        "test_images /= 255"
      ],
      "metadata": {
        "id": "CZQycX19HWG4"
      },
      "execution_count": null,
      "outputs": []
    },
    {
      "cell_type": "markdown",
      "source": [
        "## Train a Network (Basic Approach)"
      ],
      "metadata": {
        "id": "qc3B83tAMoRw"
      }
    },
    {
      "cell_type": "code",
      "source": [
        "model = keras.Sequential([\n",
        "  keras.layers.Flatten(),\n",
        "  keras.layers.Dense(512, activation='relu'),\n",
        "  keras.layers.Dense(256, activation='relu'),\n",
        "  keras.layers.Dense(3, activation='softmax')\n",
        "])\n",
        "\n",
        "model.compile(optimizer='adam',\n",
        "              loss=keras.losses.SparseCategoricalCrossentropy(),\n",
        "              metrics=['accuracy'])\n",
        "\n",
        "model.fit(train_images, train_labels, epochs=5, batch_size=32)"
      ],
      "metadata": {
        "id": "BD6_8yU5HcVl"
      },
      "execution_count": null,
      "outputs": []
    },
    {
      "cell_type": "code",
      "source": [
        "model.evaluate(test_images, test_labels)"
      ],
      "metadata": {
        "id": "rq7mxS4rMc0T"
      },
      "execution_count": null,
      "outputs": []
    },
    {
      "cell_type": "markdown",
      "source": [
        "## Train a Network (Convolutional Approach)"
      ],
      "metadata": {
        "id": "jpWVoQVjOUmu"
      }
    },
    {
      "cell_type": "code",
      "source": [
        "model = keras.Sequential([\n",
        "  keras.layers.Conv2D(64, 3, activation='relu', input_shape=(300,300,1)),\n",
        "  keras.layers.Conv2D(32, 3, activation='relu'),\n",
        "  keras.layers.Flatten(),\n",
        "  keras.layers.Dense(3, activation='softmax')\n",
        "])\n",
        "\n",
        "model.compile(optimizer='adam',\n",
        "              loss=keras.losses.SparseCategoricalCrossentropy(),\n",
        "              metrics=['accuracy'])\n",
        "\n",
        "model.fit(train_images, train_labels, epochs=5, batch_size=32)"
      ],
      "metadata": {
        "id": "3qk_ffVhOECS"
      },
      "execution_count": null,
      "outputs": []
    },
    {
      "cell_type": "code",
      "source": [
        "model.evaluate(test_images, test_labels)"
      ],
      "metadata": {
        "id": "XStqgtfBQGpH"
      },
      "execution_count": null,
      "outputs": []
    },
    {
      "cell_type": "markdown",
      "source": [
        "## A Better Convolutional Network - solve the problem of overfitting"
      ],
      "metadata": {
        "id": "bUMTw7fAQabk"
      }
    },
    {
      "cell_type": "code",
      "source": [
        "model = keras.Sequential([\n",
        "  keras.layers.AveragePooling2D(6,3, input_shape=(300,300,1)),\n",
        "  keras.layers.Conv2D(64, 3, activation='relu'),\n",
        "  keras.layers.Conv2D(32, 3, activation='relu'),\n",
        "  keras.layers.MaxPool2D(2,2),\n",
        "  keras.layers.Dropout(0.5),\n",
        "  keras.layers.Flatten(),\n",
        "  keras.layers.Dense(128, activation='relu'),\n",
        "  keras.layers.Dense(3, activation='softmax')\n",
        "])\n",
        "\n",
        "model.compile(optimizer='adam',\n",
        "              loss=keras.losses.SparseCategoricalCrossentropy(),\n",
        "              metrics=['accuracy'])\n",
        "\n",
        "model.fit(train_images, train_labels, epochs=5, batch_size=32)"
      ],
      "metadata": {
        "id": "sH9oe-sdQW2-"
      },
      "execution_count": null,
      "outputs": []
    },
    {
      "cell_type": "code",
      "source": [
        "model.evaluate(test_images, test_labels)"
      ],
      "metadata": {
        "id": "xAwSrR5ZRV4u"
      },
      "execution_count": null,
      "outputs": []
    },
    {
      "cell_type": "markdown",
      "source": [
        "## Hyperparameter Tuning"
      ],
      "metadata": {
        "id": "VH67bm-nSvy4"
      }
    },
    {
      "cell_type": "code",
      "source": [
        "pip install keras-tuner --upgrade"
      ],
      "metadata": {
        "id": "6NfjbfGKRgn1"
      },
      "execution_count": null,
      "outputs": []
    },
    {
      "cell_type": "code",
      "source": [
        "from kerastuner.tuners import RandomSearch\n",
        "\n",
        "def build_model(hp):\n",
        "  model = keras.Sequential()\n",
        "\n",
        "  model.add(keras.layers.AveragePooling2D(6,3, input_shape=(300,300,1)))\n",
        "  \n",
        "  # model.add(keras.layers.Conv2D(64, 3, activation='relu'))\n",
        "  # model.add(keras.layers.Conv2D(32, 3, activation='relu'))\n",
        "  for i in range(hp.Int(\"Conv layers\", min_value=0, max_value=3)): # Test between 0-3 conv layers, for each layer the number of filters used (i.e [16,32,64])\n",
        "    model.add(keras.layers.Conv2D(hp.Choice(f\"layer_{i}_filters\", [16,32,64], 3, activation='relu')))\n",
        "\n",
        "  model.add(keras.layers.MaxPool2D(2,2))\n",
        "  model.add(keras.layers.Dropout(0.5))\n",
        "  model.add(keras.layers.Flatten())\n",
        "\n",
        "  model.add(keras.layers.Dense(hp.Choice(\"Denser layer\", [64, 128, 256, 512, 1024]), activation='relu'))\n",
        "\n",
        "  model.add(keras.layers.Dense(3, activation='softmax'))\n",
        "\n",
        "  model.compile(optimizer='adam',\n",
        "              loss=keras.losses.SparseCategoricalCrossentropy(),\n",
        "              metrics=['accuracy'])\n",
        "  return model\n",
        "\n",
        "tuner = RandomSearch(\n",
        "    build_model,\n",
        "    objective='val_accuracy',\n",
        "    max_trials=32\n",
        ")\n",
        "\n",
        "tuner.search(train_images, train_labels, validation_data=(test_images, test_labels), epochs=10, batch_size=32)\n"
      ],
      "metadata": {
        "id": "jnLzdKftS9H9"
      },
      "execution_count": null,
      "outputs": []
    },
    {
      "cell_type": "code",
      "source": [
        "best_model = tuner.get_best_models()[0] # Get the best model that has been tested"
      ],
      "metadata": {
        "id": "HkrPpHOlVBVD"
      },
      "execution_count": null,
      "outputs": []
    },
    {
      "cell_type": "code",
      "source": [
        "best_model.evaluate(test_images, test_labels)"
      ],
      "metadata": {
        "id": "YDslsDPPX8pE"
      },
      "execution_count": null,
      "outputs": []
    },
    {
      "cell_type": "code",
      "source": [
        "best_model.summary()"
      ],
      "metadata": {
        "id": "DSKYCFD-YDpT"
      },
      "execution_count": null,
      "outputs": []
    },
    {
      "cell_type": "code",
      "source": [
        "tuner.results_summary()"
      ],
      "metadata": {
        "id": "FvdOkP2gYQJg"
      },
      "execution_count": null,
      "outputs": []
    },
    {
      "cell_type": "markdown",
      "source": [
        "## Save & Load our Models"
      ],
      "metadata": {
        "id": "v-qYuR6KZwNM"
      }
    },
    {
      "cell_type": "code",
      "source": [
        "best_model.save('./my_model') # Save the model with its parameters"
      ],
      "metadata": {
        "id": "RWEgQbU2YW46"
      },
      "execution_count": null,
      "outputs": []
    },
    {
      "cell_type": "code",
      "source": [
        "loaded_model = keras.models.load_model('./my_model') # Use the above two lines of code on your local machine, Colab isn't guaranteed to save it the next time you run it"
      ],
      "metadata": {
        "id": "u7wXy0tIZ8z8"
      },
      "execution_count": null,
      "outputs": []
    },
    {
      "cell_type": "code",
      "source": [
        "loaded_model.evaluate(test_images, test_labels) # Test the saved model"
      ],
      "metadata": {
        "id": "C9aEdJMbaHxW"
      },
      "execution_count": null,
      "outputs": []
    },
    {
      "cell_type": "markdown",
      "source": [
        "Plot Image from Numpy Array"
      ],
      "metadata": {
        "id": "06D9MrQMapJf"
      }
    },
    {
      "cell_type": "code",
      "source": [
        "image = train_images[0].reshape(300, 300)\n",
        "\n",
        "plt.imshow(image, cmap='Greys_r')"
      ],
      "metadata": {
        "id": "gB54KpzWadQB"
      },
      "execution_count": null,
      "outputs": []
    },
    {
      "cell_type": "code",
      "source": [
        " rgb_images=np.array([example['image'].numpy() for example in ds_train.take(1)])\n",
        " rgb_image = rgb_images[0]\n",
        "\n",
        " plt.imshow(rgb_image)\n",
        " rgb_image.shape"
      ],
      "metadata": {
        "id": "LH1cmKWRavb5"
      },
      "execution_count": null,
      "outputs": []
    },
    {
      "cell_type": "markdown",
      "source": [
        "## Convert PNG/JPG images to Numpy Format"
      ],
      "metadata": {
        "id": "9XSPj1I-fgJW"
      }
    },
    {
      "cell_type": "code",
      "source": [
        "import imageio\n",
        "\n",
        "im = imageio.imread('https://upload.wikimedia.org/wikipedia/commons/thumb/8/8a/Sacramento%2C-California---State-Capitol_%28cropped%29.jpg/1200px-Sacramento%2C-California---State-Capitol_%28cropped%29.jpg')\n",
        "\n",
        "plt.imshow(im)\n",
        "\n",
        "print(type(im))\n",
        "\n",
        "im_np = np.asarray(im) # Converts to Numpy\n",
        "print(im_np.shape)"
      ],
      "metadata": {
        "id": "KHmeBMb3f89t"
      },
      "execution_count": null,
      "outputs": []
    },
    {
      "cell_type": "code",
      "source": [
        ""
      ],
      "metadata": {
        "id": "rLmE7bFCgkoP"
      },
      "execution_count": null,
      "outputs": []
    }
  ]
}